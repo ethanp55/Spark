{
 "cells": [
  {
   "cell_type": "code",
   "execution_count": 7,
   "metadata": {},
   "outputs": [
    {
     "name": "stdout",
     "output_type": "stream",
     "text": [
      "823519: ('1', '3')\n",
      "893988: ('1', '3')\n",
      "1248029: ('1', '3')\n",
      "2238063: ('1', '3')\n",
      "\n",
      "\n",
      "\n",
      "------------------------\n",
      "\n",
      "\n",
      "\n",
      "893988: 1\n",
      "1248029: 1\n",
      "823519: 1\n",
      "2238063: 1\n"
     ]
    }
   ],
   "source": [
    "import sys\n",
    "import re\n",
    "from sys import stderr\n",
    "from operator import add, concat\n",
    "\n",
    "from pyspark import SparkContext\n",
    "\n",
    "def movieMap(line):\n",
    "    user_movie_review = line.split('\\t')\n",
    "    \n",
    "    return ((user_movie_review[1], user_movie_review[2]), [user_movie_review[0]])\n",
    "\n",
    "if __name__ == \"__main__\":\n",
    "    if len(sys.argv) != 5:\n",
    "        print(\"Usage: netflix <input> <user_id> <similar_users_output> <very_similar_users_output>\")\n",
    "        exit(-1)\n",
    "        \n",
    "    sc = SparkContext.getOrCreate()\n",
    "    \n",
    "    netflix_data = sc.textFile(sys.argv[1])\n",
    "    #netflix_data = sc.textFile('test.txt')\n",
    "    \n",
    "    user = sys.argv[2]\n",
    "    #user = '1488844'\n",
    "    \n",
    "    others_with_same_reviews = netflix_data.map(movieMap) \\\n",
    "                                           .reduceByKey(concat) \\\n",
    "                                           .filter(lambda pair: user in pair[1]) \\\n",
    "                                           .flatMap(lambda pair: [(person, pair[0]) for person in pair[1] if person != user])\n",
    "            \n",
    "#     similar_users = others_with_same_reviews.collect()\n",
    "    \n",
    "    \n",
    "#     for key, value in similar_users:\n",
    "#         print(\"%s: %s\" % (key, value))\n",
    "        \n",
    "#     print('\\n\\n\\n------------------------\\n\\n\\n')\n",
    "    \n",
    "    others_with_most_similar_reviews = others_with_same_reviews.map(lambda pair: (pair[0], 1)) \\\n",
    "                                                               .filter(lambda pair: user != pair[0]) \\\n",
    "                                                               .reduceByKey(add) \\\n",
    "                                                               .sortBy(lambda pair: pair[1], ascending = False)\n",
    "    \n",
    "#     top_pair = others_with_most_similar_reviews.take(1)\n",
    "#     most_similar_reviews = top_pair[0][1]\n",
    "\n",
    "    \n",
    "#     very_similar_users = others_with_most_similar_reviews.filter(lambda pair: pair[1] == most_similar_reviews) \\\n",
    "#                                                          .collect()\n",
    "\n",
    "    very_similar_users = others_with_most_similar_reviews.take(10)\n",
    "\n",
    "    for key, value in very_similar_users:\n",
    "        print(\"%s: %s\" % (key, value))\n",
    "        \n",
    "    similar_users.saveAsTextFile(sys.argv[3])\n",
    "    very_similar_users.saveAsTextFile(sys.argv[4])\n",
    "    \n",
    "    sc.stop()\n"
   ]
  },
  {
   "cell_type": "code",
   "execution_count": null,
   "metadata": {},
   "outputs": [],
   "source": []
  },
  {
   "cell_type": "code",
   "execution_count": null,
   "metadata": {},
   "outputs": [],
   "source": []
  }
 ],
 "metadata": {
  "kernelspec": {
   "display_name": "Python 3",
   "language": "python",
   "name": "python3"
  },
  "language_info": {
   "codemirror_mode": {
    "name": "ipython",
    "version": 3
   },
   "file_extension": ".py",
   "mimetype": "text/x-python",
   "name": "python",
   "nbconvert_exporter": "python",
   "pygments_lexer": "ipython3",
   "version": "3.7.4"
  }
 },
 "nbformat": 4,
 "nbformat_minor": 2
}
